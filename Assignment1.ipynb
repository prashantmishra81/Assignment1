{
 "cells": [
  {
   "cell_type": "code",
   "execution_count": 6,
   "id": "461415c3-c976-434f-a06e-88077797abac",
   "metadata": {},
   "outputs": [
    {
     "name": "stdout",
     "output_type": "stream",
     "text": [
      "hello my name is Prashant, joined PW skills to learn Data science\n"
     ]
    }
   ],
   "source": [
    "'''Q1. Create one variable containing following type of data:\n",
    "(i) string\n",
    "(ii) list\n",
    "(iii) float\n",
    "(iv) tuple'''\n",
    "\n",
    "\n",
    "a='hello my name is Prashant, joined PW skills to learn Data science'\n",
    "print(a)"
   ]
  },
  {
   "cell_type": "code",
   "execution_count": 8,
   "id": "be6b604d-665b-44df-9422-ff9c7d150153",
   "metadata": {},
   "outputs": [
    {
     "name": "stdout",
     "output_type": "stream",
     "text": [
      "<class 'list'>\n"
     ]
    }
   ],
   "source": [
    "b=[1, 2, 3 , 4 , 'sugarfree' ]\n",
    "print (type((b)))\n"
   ]
  },
  {
   "cell_type": "code",
   "execution_count": 10,
   "id": "8ee16984-561d-4e2e-a3ae-23e6a07ba427",
   "metadata": {},
   "outputs": [
    {
     "name": "stdout",
     "output_type": "stream",
     "text": [
      "3.14\n"
     ]
    }
   ],
   "source": [
    "c= 3.14\n",
    "print(c)\n"
   ]
  },
  {
   "cell_type": "code",
   "execution_count": 11,
   "id": "0583beb7-be64-482f-9871-1d2d2b9743fb",
   "metadata": {},
   "outputs": [
    {
     "name": "stdout",
     "output_type": "stream",
     "text": [
      "<class 'tuple'>\n"
     ]
    }
   ],
   "source": [
    "d=(1,2,3,[453,'pwskills'])\n",
    "print(type(d))"
   ]
  },
  {
   "cell_type": "code",
   "execution_count": 24,
   "id": "caff4ecc-695b-4853-a8bb-8c7f82b86aa4",
   "metadata": {},
   "outputs": [
    {
     "name": "stdout",
     "output_type": "stream",
     "text": [
      "<class 'str'>\n",
      "<class 'str'>\n",
      "<class 'list'>\n",
      "<class 'float'>\n"
     ]
    }
   ],
   "source": [
    "'''Q2. Given are some following variables containing data:\n",
    "(i) var1 = ‘ ‘\n",
    "(ii) var2 = ‘[ DS , ML , Python]’\n",
    "(iii) var3 = [ ‘DS’ , ’ML’ , ‘Python’ ]\n",
    "(iv) var4 = 1.\n",
    "What will be the data type of the above given variable.'''\n",
    "\n",
    "var1 = '‘ ‘'\n",
    "print(type(var1))\n",
    "\n",
    "\n",
    "var2 = '[ DS ,ML, Python]'\n",
    "print (type(var2))\n",
    "\n",
    "\n",
    "var3 = [ 'DS' , '’ML’' , '‘Python’' ]\n",
    "\n",
    "print(type(var3))\n",
    "\n",
    "\n",
    "\n",
    "var4=1.\n",
    "\n",
    "print(type(var4))\n",
    "#var3="
   ]
  },
  {
   "cell_type": "code",
   "execution_count": 32,
   "id": "ed7d613b-7a11-495b-8241-fb8dd0e7bf37",
   "metadata": {},
   "outputs": [
    {
     "name": "stdout",
     "output_type": "stream",
     "text": [
      "0.8333333333333334\n",
      "2\n",
      "3\n",
      "256\n"
     ]
    }
   ],
   "source": [
    "'''Q3. Explain the use of the following operators using an example:\n",
    "(i) /\n",
    "(ii) %\n",
    "(iii) //\n",
    "(iv) **'''\n",
    "\n",
    "\n",
    "a= 5/6\n",
    "print(a)  # / this divides\n",
    "\n",
    "\n",
    "b=6%4  # % is used to denote reminder value\n",
    "\n",
    "print(b)\n",
    "\n",
    "c=10//3\n",
    "\n",
    "print(c)  # // is used to dente whole number value of the division\n",
    "\n",
    "d=2**8\n",
    "\n",
    "print(d)\n",
    "  # ** is used to denote exponential power"
   ]
  },
  {
   "cell_type": "code",
   "execution_count": 33,
   "id": "f99c4b37-a4eb-42f6-87e3-82144f2d9c34",
   "metadata": {},
   "outputs": [
    {
     "name": "stdout",
     "output_type": "stream",
     "text": [
      "10\n"
     ]
    }
   ],
   "source": [
    "'''Q4. Create a list of length 10 of your choice containing multiple types of data. Using for loop print the\n",
    "element and its data type.'''\n",
    "\n",
    "\n",
    "List= [1. , 345, 6.89, 'flower', 4, 5,  6, 7 , 8 , 'how are you doing']\n",
    "\n",
    "print(len(List))"
   ]
  },
  {
   "cell_type": "code",
   "execution_count": 42,
   "id": "bd507c87-6be9-4cd7-bbaa-2c18e627da8e",
   "metadata": {},
   "outputs": [
    {
     "name": "stdout",
     "output_type": "stream",
     "text": [
      "1.0\n",
      "<class 'float'>\n",
      "345\n",
      "<class 'int'>\n",
      "6.89\n",
      "<class 'float'>\n",
      "flower\n",
      "<class 'str'>\n",
      "4\n",
      "<class 'int'>\n",
      "5\n",
      "<class 'int'>\n",
      "6\n",
      "<class 'int'>\n",
      "7\n",
      "<class 'int'>\n",
      "8\n",
      "<class 'int'>\n",
      "how are you doing\n",
      "<class 'str'>\n"
     ]
    }
   ],
   "source": [
    "\n",
    "i=0\n",
    "while i<len(List):\n",
    "    print(List[i])\n",
    "    print(type(List[i]))\n",
    "    i+=1"
   ]
  },
  {
   "cell_type": "markdown",
   "id": "ca45810c-9168-4380-9a28-a83e35643169",
   "metadata": {},
   "source": [
    "## '''\n",
    "\n",
    "Q5. Using a while loop, verify if the number A is purely divisible by number B and if so then how many\n",
    "times it can be divisible.\n",
    "\n",
    "'''\n",
    "'''a=int(input(''))\n",
    "b=int(input(''))\n",
    "\n",
    "\n",
    "\n",
    "if a%b==0:\n",
    "    print('number is divible')\n",
    "else:   \n",
    "    print('number is not divisible')\n",
    "    '''\n",
    "    \n",
    "    \n",
    "while a%b==0:\n",
    "    print(a)"
   ]
  },
  {
   "cell_type": "code",
   "execution_count": null,
   "id": "46f07eac-4240-43f8-a2c2-b094beec8713",
   "metadata": {},
   "outputs": [],
   "source": [
    "'''Q5. Using a while loop, verify if the number A is purely divisible by number B and if so then how many\n",
    "times it can be divisible.\n",
    "'''\n",
    "\n",
    "while 4%2==0:\n",
    "    print(a)   # as per the output the it will be printed "
   ]
  },
  {
   "cell_type": "code",
   "execution_count": 59,
   "id": "d44e3cbc-d34d-42a7-9a81-ec6278c0694d",
   "metadata": {},
   "outputs": [
    {
     "name": "stdout",
     "output_type": "stream",
     "text": [
      "not divisible by 3\n",
      "not divisible by 3\n",
      "not divisible by 3\n",
      "not divisible by 3\n",
      "not divisible by 3\n",
      "not divisible by 3\n",
      "number is divisible by 3\n",
      "not divisible by 3\n",
      "number is divisible by 3\n",
      "not divisible by 3\n",
      "not divisible by 3\n",
      "not divisible by 3\n",
      "number is divisible by 3\n",
      "not divisible by 3\n",
      "not divisible by 3\n",
      "number is divisible by 3\n",
      "not divisible by 3\n",
      "not divisible by 3\n",
      "number is divisible by 3\n",
      "number is divisible by 3\n",
      "number is divisible by 3\n",
      "not divisible by 3\n",
      "number is divisible by 3\n",
      "number is divisible by 3\n",
      "not divisible by 3\n"
     ]
    }
   ],
   "source": [
    "'''\n",
    "\n",
    "\n",
    "Q6. Create a list containing 25 int type data. Using for loop and if-else condition print if the element is\n",
    "divisible by 3 or not.\n",
    "\n",
    "\n",
    "'''\n",
    "\n",
    "list=[1,2,3.4,1,4,8,9,7,6,7,5,2,3,4,5,6,7,8,123,345,567,890,789,678,67]\n",
    "\n",
    "for i in list:\n",
    " if i%3==0:\n",
    "    print('number is divisible by 3')\n",
    " else:\n",
    "        print('not divisible by 3')\n",
    "    "
   ]
  },
  {
   "cell_type": "code",
   "execution_count": 70,
   "id": "4dc3280b-2bac-4361-ae69-72237d15e534",
   "metadata": {},
   "outputs": [
    {
     "name": "stdout",
     "output_type": "stream",
     "text": [
      "6\n",
      "r\n",
      "[2, 3, 4, 5, 'hello', 6]\n"
     ]
    },
    {
     "ename": "TypeError",
     "evalue": "'str' object does not support item assignment",
     "output_type": "error",
     "traceback": [
      "\u001b[0;31m---------------------------------------------------------------------------\u001b[0m",
      "\u001b[0;31mTypeError\u001b[0m                                 Traceback (most recent call last)",
      "Cell \u001b[0;32mIn[70], line 30\u001b[0m\n\u001b[1;32m     27\u001b[0m k[\u001b[38;5;241m4\u001b[39m]\u001b[38;5;241m=\u001b[39m\u001b[38;5;124m'\u001b[39m\u001b[38;5;124mhello\u001b[39m\u001b[38;5;124m'\u001b[39m\n\u001b[1;32m     28\u001b[0m \u001b[38;5;28mprint\u001b[39m(k) \u001b[38;5;66;03m# value changed in list\u001b[39;00m\n\u001b[0;32m---> 30\u001b[0m \u001b[43mi\u001b[49m\u001b[43m[\u001b[49m\u001b[38;5;241;43m2\u001b[39;49m\u001b[43m]\u001b[49m\u001b[38;5;241m=\u001b[39m\u001b[38;5;124m'\u001b[39m\u001b[38;5;124mf\u001b[39m\u001b[38;5;124m'\u001b[39m\n\u001b[1;32m     32\u001b[0m \u001b[38;5;28mprint\u001b[39m(i)\n",
      "\u001b[0;31mTypeError\u001b[0m: 'str' object does not support item assignment"
     ]
    }
   ],
   "source": [
    "'''\n",
    "\n",
    "\n",
    "Q7. What do you understand about mutable and immutable data types? Give examples for both showing\n",
    "this property.\n",
    "\n",
    "\n",
    "'''\n",
    "\n",
    "\n",
    "''' mutable data types are those data types whose value of indexes can be altered ,example:- list\n",
    "\n",
    "    immutable data types are those data types whose value of index cannot be changed as it will \n",
    "    change the data type which python does not allow ,example:- string'''\n",
    "\n",
    "\n",
    "k=[2,3,4,5,6,6]\n",
    "i='string'\n",
    "\n",
    "a=k[4]\n",
    "print(a) # value got printed\n",
    "\n",
    "ss=i[2]\n",
    "\n",
    "print(ss) # value got printed here as well\n",
    "\n",
    "k[4]='hello'\n",
    "print(k) # value changed in list\n",
    "\n",
    "i[2]='f'\n",
    "\n",
    "print(i)   # error - 'str' object does not support item assignment\n"
   ]
  },
  {
   "cell_type": "code",
   "execution_count": null,
   "id": "adbb0748-9a67-4fe7-8ca6-8a0c43fe6314",
   "metadata": {},
   "outputs": [],
   "source": []
  },
  {
   "cell_type": "code",
   "execution_count": null,
   "id": "2a8c6a1b-9ae6-41b1-8e00-4ec4aec7d04e",
   "metadata": {},
   "outputs": [],
   "source": [
    "\n"
   ]
  }
 ],
 "metadata": {
  "kernelspec": {
   "display_name": "Python 3 (ipykernel)",
   "language": "python",
   "name": "python3"
  },
  "language_info": {
   "codemirror_mode": {
    "name": "ipython",
    "version": 3
   },
   "file_extension": ".py",
   "mimetype": "text/x-python",
   "name": "python",
   "nbconvert_exporter": "python",
   "pygments_lexer": "ipython3",
   "version": "3.10.8"
  }
 },
 "nbformat": 4,
 "nbformat_minor": 5
}
